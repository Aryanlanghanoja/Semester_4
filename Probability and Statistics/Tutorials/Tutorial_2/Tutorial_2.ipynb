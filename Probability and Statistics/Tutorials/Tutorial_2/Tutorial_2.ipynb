{
 "cells": [
  {
   "cell_type": "code",
   "execution_count": 1,
   "metadata": {},
   "outputs": [
    {
     "name": "stdout",
     "output_type": "stream",
     "text": [
      "Index(['ID', 'Gender', 'Age', 'Class', 'Major', 'Grad Intention', 'GPA',\n",
      "       'Employment', 'Salary', 'Social Networking', 'Satisfaction', 'Spending',\n",
      "       'Computer', 'Text Messages', 'Wealth'],\n",
      "      dtype='object')\n"
     ]
    }
   ],
   "source": [
    "import pandas as pd             \n",
    "import matplotlib.pyplot as plt      \n",
    "import seaborn as sns      \n",
    "\n",
    "Dataset = pd.read_excel(\"./Tutorial 2 Tk1 A batch_MU_Students.xlsx\", sheet_name=\"Q.2\")"
   ]
  },
  {
   "cell_type": "code",
   "execution_count": 3,
   "metadata": {},
   "outputs": [
    {
     "name": "stdout",
     "output_type": "stream",
     "text": [
      "Contingency Table for Gender and Major:\n",
      "Gender                  Female  Male\n",
      "Major                               \n",
      "Accounting                   3     4\n",
      "CIS                          3     1\n",
      "Economics/Finance            7     4\n",
      "International Business       4     2\n",
      "Management                   4     6\n",
      "Other                        3     4\n",
      "Retailing/Marketing          9     5\n",
      "Undecided                    0     3\n"
     ]
    }
   ],
   "source": [
    "contingency_table_1 = pd.crosstab(Dataset[\"Major\"] , Dataset[\"Gender\"])\n",
    "\n",
    "print(\"Contingency Table for Gender and Major:\")\n",
    "print(contingency_table_1)"
   ]
  },
  {
   "cell_type": "code",
   "execution_count": null,
   "metadata": {},
   "outputs": [],
   "source": [
    "plt.figure(figsize=(12, 8))\n",
    "plt.subplot(2, 2, 1)\n",
    "plt.hist(Dataset[\"GPA\"], bins=20)\n",
    "plt.title(\"GPA Histogram\")\n",
    "\n",
    "plt.subplot(2, 2, 2)\n",
    "plt.hist(Dataset[\"Salary\"], bins=20)\n",
    "plt.title(\"Salary Histogram\")\n",
    "\n",
    "plt.subplot(2, 2, 3)\n",
    "plt.hist(Dataset[\"Spending\"], bins=20)\n",
    "plt.title(\"Spending Histogram\")\n",
    "\n",
    "plt.subplot(2, 2, 4)\n",
    "plt.hist(Dataset[\"Text Messages\"], bins=20)\n",
    "plt.title(\"Text Messages Histogram\")\n",
    "\n",
    "plt.tight_layout()\n",
    "plt.show()"
   ]
  }
 ],
 "metadata": {
  "kernelspec": {
   "display_name": "Python 3",
   "language": "python",
   "name": "python3"
  },
  "language_info": {
   "codemirror_mode": {
    "name": "ipython",
    "version": 3
   },
   "file_extension": ".py",
   "mimetype": "text/x-python",
   "name": "python",
   "nbconvert_exporter": "python",
   "pygments_lexer": "ipython3",
   "version": "3.12.1"
  }
 },
 "nbformat": 4,
 "nbformat_minor": 2
}
