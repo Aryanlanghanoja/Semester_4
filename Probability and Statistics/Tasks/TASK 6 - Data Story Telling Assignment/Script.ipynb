{
 "cells": [
  {
   "cell_type": "code",
   "execution_count": 2,
   "metadata": {},
   "outputs": [
    {
     "name": "stdout",
     "output_type": "stream",
     "text": [
      "Index(['year', 'rank', 'country', 'state', 'gdp', 'gdp_percent'], dtype='object')\n"
     ]
    }
   ],
   "source": [
    "import pandas as pd                 \n",
    "\n",
    "Dateset = pd.read_csv('./gdp_1960_2020.csv')\n",
    "print(Dateset.columns)"
   ]
  },
  {
   "cell_type": "code",
   "execution_count": 3,
   "metadata": {},
   "outputs": [
    {
     "name": "stdout",
     "output_type": "stream",
     "text": [
      "      the United States  United Kingdom  France  China  Japan  Canada  Italy  \\\n",
      "0          5.433000e+11             NaN     NaN    NaN    NaN     NaN    NaN   \n",
      "103        5.633000e+11             NaN     NaN    NaN    NaN     NaN    NaN   \n",
      "206        6.051000e+11             NaN     NaN    NaN    NaN     NaN    NaN   \n",
      "311        6.386000e+11             NaN     NaN    NaN    NaN     NaN    NaN   \n",
      "416        6.858000e+11             NaN     NaN    NaN    NaN     NaN    NaN   \n",
      "...                 ...             ...     ...    ...    ...     ...    ...   \n",
      "9147       1.874510e+13             NaN     NaN    NaN    NaN     NaN    NaN   \n",
      "9352       1.954300e+13             NaN     NaN    NaN    NaN     NaN    NaN   \n",
      "9556       2.061190e+13             NaN     NaN    NaN    NaN     NaN    NaN   \n",
      "9760       2.143320e+13             NaN     NaN    NaN    NaN     NaN    NaN   \n",
      "9959       2.093660e+13             NaN     NaN    NaN    NaN     NaN    NaN   \n",
      "\n",
      "      India  Australia  Sweden  Argentina  Brazil  Spain  Germany  \\\n",
      "0       NaN        NaN     NaN        NaN     NaN    NaN      NaN   \n",
      "103     NaN        NaN     NaN        NaN     NaN    NaN      NaN   \n",
      "206     NaN        NaN     NaN        NaN     NaN    NaN      NaN   \n",
      "311     NaN        NaN     NaN        NaN     NaN    NaN      NaN   \n",
      "416     NaN        NaN     NaN        NaN     NaN    NaN      NaN   \n",
      "...     ...        ...     ...        ...     ...    ...      ...   \n",
      "9147    NaN        NaN     NaN        NaN     NaN    NaN      NaN   \n",
      "9352    NaN        NaN     NaN        NaN     NaN    NaN      NaN   \n",
      "9556    NaN        NaN     NaN        NaN     NaN    NaN      NaN   \n",
      "9760    NaN        NaN     NaN        NaN     NaN    NaN      NaN   \n",
      "9959    NaN        NaN     NaN        NaN     NaN    NaN      NaN   \n",
      "\n",
      "      Netherlands  Mexico  Russia  South Korea  \n",
      "0             NaN     NaN     NaN          NaN  \n",
      "103           NaN     NaN     NaN          NaN  \n",
      "206           NaN     NaN     NaN          NaN  \n",
      "311           NaN     NaN     NaN          NaN  \n",
      "416           NaN     NaN     NaN          NaN  \n",
      "...           ...     ...     ...          ...  \n",
      "9147          NaN     NaN     NaN          NaN  \n",
      "9352          NaN     NaN     NaN          NaN  \n",
      "9556          NaN     NaN     NaN          NaN  \n",
      "9760          NaN     NaN     NaN          NaN  \n",
      "9959          NaN     NaN     NaN          NaN  \n",
      "\n",
      "[61 rows x 18 columns]\n"
     ]
    }
   ],
   "source": [
    "# Iterating through the list of countries\n",
    "Countries = [\n",
    "    \"the United States\",\n",
    "    \"United Kingdom\",\n",
    "    \"France\",\n",
    "    \"China\",\n",
    "    \"Japan\",\n",
    "    \"Canada\",\n",
    "    \"Italy\",\n",
    "    \"India\",\n",
    "    \"Australia\",\n",
    "    \"Sweden\",\n",
    "    \"Argentina\",\n",
    "    \"Brazil\",\n",
    "    \"Spain\",\n",
    "    \"Germany\",\n",
    "    \"Netherlands\",\n",
    "    \"Mexico\",\n",
    "    \"Russia\",\n",
    "    \"South Korea\",\n",
    "]\n",
    "\n",
    "new_Data = pd.DataFrame()\n",
    "for country in Countries:\n",
    "    country_data = Dateset[Dateset[\"country\"] == country][[\"year\", \"gdp\"]]\n",
    "    new_Data[country] = Dateset[Dateset[\"country\"] == country][\"gdp\"]\n",
    "    \n",
    "print(new_Data)"
   ]
  }
 ],
 "metadata": {
  "kernelspec": {
   "display_name": "Python 3",
   "language": "python",
   "name": "python3"
  },
  "language_info": {
   "codemirror_mode": {
    "name": "ipython",
    "version": 3
   },
   "file_extension": ".py",
   "mimetype": "text/x-python",
   "name": "python",
   "nbconvert_exporter": "python",
   "pygments_lexer": "ipython3",
   "version": "3.12.1"
  }
 },
 "nbformat": 4,
 "nbformat_minor": 2
}
