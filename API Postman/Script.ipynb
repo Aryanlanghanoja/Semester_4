{
 "cells": [
  {
   "cell_type": "code",
   "execution_count": 2,
   "metadata": {},
   "outputs": [
    {
     "name": "stdout",
     "output_type": "stream",
     "text": [
      "Conversion Sucessfull\n"
     ]
    }
   ],
   "source": [
    "import pandas as pd  \n",
    "Data = pd.read_json(\"./Data.json\")   \n",
    "Data.to_excel(\"./Books.xlsx\" , index=False)\n",
    "Data.to_xml(\"./Books.xml\" , index = False)\n",
    "print(\"Conversion Sucessfull\") "
   ]
  }
 ],
 "metadata": {
  "kernelspec": {
   "display_name": "Python 3",
   "language": "python",
   "name": "python3"
  },
  "language_info": {
   "codemirror_mode": {
    "name": "ipython",
    "version": 3
   },
   "file_extension": ".py",
   "mimetype": "text/x-python",
   "name": "python",
   "nbconvert_exporter": "python",
   "pygments_lexer": "ipython3",
   "version": "3.12.1"
  }
 },
 "nbformat": 4,
 "nbformat_minor": 2
}
