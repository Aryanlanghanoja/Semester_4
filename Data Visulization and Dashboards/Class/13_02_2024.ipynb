{
 "cells": [
  {
   "cell_type": "code",
   "execution_count": null,
   "metadata": {},
   "outputs": [],
   "source": [
    "import pandas as pd\n",
    "import numpy as np\n",
    "import matplotlib.pyplot as plt\n",
    "import seaborn as sns"
   ]
  },
  {
   "cell_type": "code",
   "execution_count": null,
   "metadata": {},
   "outputs": [],
   "source": [
    "# Exploraory Data Analysis\n",
    "\n",
    "Dataset = {\"Player\": [\"Rohit\", \"Rahul\", \"Dhoni\", \"Sachin\"], \"Scores\": [14, 26, 45, 34]}\n",
    "\n",
    "Dataset = pd.DataFrame(Dataset)\n",
    "print(Dataset)"
   ]
  },
  {
   "cell_type": "code",
   "execution_count": null,
   "metadata": {},
   "outputs": [],
   "source": [
    "Dataset = {\"Player\": [\"Rohit\", \"Rahul\", \"Dhoni\", \"Sachin\"], \"Scores\": [14, 26, 45, 34]}\n",
    "Dataset = pd.DataFrame(Dataset , index = ['Plater-1' , 'Player-2' , 'Player-3' , 'Player-4'])\n",
    "print(Dataset)"
   ]
  },
  {
   "cell_type": "code",
   "execution_count": null,
   "metadata": {},
   "outputs": [],
   "source": [
    "print(np.random.randn(5,3))"
   ]
  },
  {
   "cell_type": "code",
   "execution_count": 27,
   "metadata": {},
   "outputs": [
    {
     "name": "stdout",
     "output_type": "stream",
     "text": [
      "        One       Two     Three\n",
      "A -1.284693 -0.896668  0.335593\n",
      "B       NaN       NaN       NaN\n",
      "C -0.807114 -0.727189  0.366411\n",
      "D -0.357935 -0.664762 -0.532201\n",
      "F -0.141519  1.216665  0.476329\n",
      "G       NaN       NaN       NaN\n",
      "H  2.954699 -0.445788  0.291608\n"
     ]
    }
   ],
   "source": [
    "Dataframe = pd.DataFrame(np.random.randn(5,3),columns=['One','Two','Three'],index=['A','C','D','F','H'])\n",
    "\n",
    "Dataframe = Dataframe.reindex(['A','B','C','D','F','G','H'])\n",
    "print(Dataframe)"
   ]
  },
  {
   "cell_type": "code",
   "execution_count": 23,
   "metadata": {},
   "outputs": [
    {
     "name": "stdout",
     "output_type": "stream",
     "text": [
      "        One       Two     Three\n",
      "A -0.145839 -1.275287  1.077557\n",
      "B -0.141019  0.139003  0.718455\n",
      "C  1.395080  0.639094 -0.110632\n",
      "D  0.014986  0.434714  0.421809\n",
      "F -1.419082  0.737436  0.817680\n",
      "G -0.141019  0.139003  0.718455\n",
      "H -0.550242  0.159057  1.385860\n"
     ]
    }
   ],
   "source": [
    "#Dataframe = Dataframe.fillna(Dataframe.mean())\n",
    "#print(Dataframe)"
   ]
  },
  {
   "cell_type": "markdown",
   "metadata": {},
   "source": [
    "Approaches for Datacleaning\n",
    "\n",
    "Replace with 0 \n",
    "Replace with Statistical function"
   ]
  },
  {
   "cell_type": "code",
   "execution_count": 28,
   "metadata": {},
   "outputs": [
    {
     "name": "stdout",
     "output_type": "stream",
     "text": [
      "        One       Two     Three\n",
      "A -1.284693 -0.896668  0.335593\n",
      "B -1.284693 -0.896668  0.335593\n",
      "C -0.807114 -0.727189  0.366411\n",
      "D -0.357935 -0.664762 -0.532201\n",
      "F -0.141519  1.216665  0.476329\n",
      "G -0.141519  1.216665  0.476329\n",
      "H  2.954699 -0.445788  0.291608\n"
     ]
    },
    {
     "name": "stderr",
     "output_type": "stream",
     "text": [
      "C:\\Users\\online\\AppData\\Local\\Temp\\ipykernel_6080\\117967861.py:1: FutureWarning: DataFrame.fillna with 'method' is deprecated and will raise in a future version. Use obj.ffill() or obj.bfill() instead.\n",
      "  Dataframe = Dataframe.fillna(method='pad')\n"
     ]
    }
   ],
   "source": [
    "Dataframe = Dataframe.fillna(method='pad')\n",
    "print(Dataframe)"
   ]
  },
  {
   "cell_type": "code",
   "execution_count": 29,
   "metadata": {},
   "outputs": [
    {
     "name": "stdout",
     "output_type": "stream",
     "text": [
      "        One       Two     Three\n",
      "A -1.284693 -0.896668  0.335593\n",
      "B -1.284693 -0.896668  0.335593\n",
      "C -0.807114 -0.727189  0.366411\n",
      "D -0.357935 -0.664762 -0.532201\n",
      "F -0.141519  1.216665  0.476329\n",
      "G -0.141519  1.216665  0.476329\n",
      "H  2.954699 -0.445788  0.291608\n"
     ]
    },
    {
     "name": "stderr",
     "output_type": "stream",
     "text": [
      "C:\\Users\\online\\AppData\\Local\\Temp\\ipykernel_6080\\326296281.py:1: FutureWarning: DataFrame.fillna with 'method' is deprecated and will raise in a future version. Use obj.ffill() or obj.bfill() instead.\n",
      "  Dataframe = Dataframe.fillna(method = 'bfill')\n"
     ]
    }
   ],
   "source": [
    "Dataframe = Dataframe.fillna(method = 'bfill')\n",
    "print(Dataframe)"
   ]
  },
  {
   "cell_type": "code",
   "execution_count": 30,
   "metadata": {},
   "outputs": [
    {
     "ename": "ValueError",
     "evalue": "Need to specify at least one of 'labels', 'index' or 'columns'",
     "output_type": "error",
     "traceback": [
      "\u001b[1;31m---------------------------------------------------------------------------\u001b[0m",
      "\u001b[1;31mValueError\u001b[0m                                Traceback (most recent call last)",
      "\u001b[1;32m~\\AppData\\Local\\Temp\\ipykernel_6080\\2647652871.py\u001b[0m in \u001b[0;36m?\u001b[1;34m()\u001b[0m\n\u001b[1;32m----> 1\u001b[1;33m \u001b[0mDataframe\u001b[0m \u001b[1;33m=\u001b[0m \u001b[0mDataframe\u001b[0m\u001b[1;33m.\u001b[0m\u001b[0mdrop\u001b[0m\u001b[1;33m(\u001b[0m\u001b[1;33m)\u001b[0m\u001b[1;33m\u001b[0m\u001b[1;33m\u001b[0m\u001b[0m\n\u001b[0m\u001b[0;32m      2\u001b[0m \u001b[0mprint\u001b[0m\u001b[1;33m(\u001b[0m\u001b[0mDataframe\u001b[0m\u001b[1;33m)\u001b[0m\u001b[1;33m\u001b[0m\u001b[1;33m\u001b[0m\u001b[0m\n",
      "\u001b[1;32m~\\AppData\\Roaming\\Python\\Python312\\site-packages\\pandas\\core\\frame.py\u001b[0m in \u001b[0;36m?\u001b[1;34m(self, labels, axis, index, columns, level, inplace, errors)\u001b[0m\n\u001b[0;32m   5564\u001b[0m                 \u001b[0mweight\u001b[0m  \u001b[1;36m250.0\u001b[0m   \u001b[1;36m150.0\u001b[0m\u001b[1;33m\u001b[0m\u001b[1;33m\u001b[0m\u001b[0m\n\u001b[0;32m   5565\u001b[0m         \u001b[0mfalcon\u001b[0m  \u001b[0mspeed\u001b[0m   \u001b[1;36m320.0\u001b[0m   \u001b[1;36m250.0\u001b[0m\u001b[1;33m\u001b[0m\u001b[1;33m\u001b[0m\u001b[0m\n\u001b[0;32m   5566\u001b[0m                 \u001b[0mweight\u001b[0m  \u001b[1;36m1.0\u001b[0m     \u001b[1;36m0.8\u001b[0m\u001b[1;33m\u001b[0m\u001b[1;33m\u001b[0m\u001b[0m\n\u001b[0;32m   5567\u001b[0m         \"\"\"\n\u001b[1;32m-> 5568\u001b[1;33m         return super().drop(\n\u001b[0m\u001b[0;32m   5569\u001b[0m             \u001b[0mlabels\u001b[0m\u001b[1;33m=\u001b[0m\u001b[0mlabels\u001b[0m\u001b[1;33m,\u001b[0m\u001b[1;33m\u001b[0m\u001b[1;33m\u001b[0m\u001b[0m\n\u001b[0;32m   5570\u001b[0m             \u001b[0maxis\u001b[0m\u001b[1;33m=\u001b[0m\u001b[0maxis\u001b[0m\u001b[1;33m,\u001b[0m\u001b[1;33m\u001b[0m\u001b[1;33m\u001b[0m\u001b[0m\n\u001b[0;32m   5571\u001b[0m             \u001b[0mindex\u001b[0m\u001b[1;33m=\u001b[0m\u001b[0mindex\u001b[0m\u001b[1;33m,\u001b[0m\u001b[1;33m\u001b[0m\u001b[1;33m\u001b[0m\u001b[0m\n",
      "\u001b[1;32m~\\AppData\\Roaming\\Python\\Python312\\site-packages\\pandas\\core\\generic.py\u001b[0m in \u001b[0;36m?\u001b[1;34m(self, labels, axis, index, columns, level, inplace, errors)\u001b[0m\n\u001b[0;32m   4770\u001b[0m             \u001b[0maxes\u001b[0m \u001b[1;33m=\u001b[0m \u001b[1;33m{\u001b[0m\u001b[1;34m\"index\"\u001b[0m\u001b[1;33m:\u001b[0m \u001b[0mindex\u001b[0m\u001b[1;33m}\u001b[0m\u001b[1;33m\u001b[0m\u001b[1;33m\u001b[0m\u001b[0m\n\u001b[0;32m   4771\u001b[0m             \u001b[1;32mif\u001b[0m \u001b[0mself\u001b[0m\u001b[1;33m.\u001b[0m\u001b[0mndim\u001b[0m \u001b[1;33m==\u001b[0m \u001b[1;36m2\u001b[0m\u001b[1;33m:\u001b[0m\u001b[1;33m\u001b[0m\u001b[1;33m\u001b[0m\u001b[0m\n\u001b[0;32m   4772\u001b[0m                 \u001b[0maxes\u001b[0m\u001b[1;33m[\u001b[0m\u001b[1;34m\"columns\"\u001b[0m\u001b[1;33m]\u001b[0m \u001b[1;33m=\u001b[0m \u001b[0mcolumns\u001b[0m\u001b[1;33m\u001b[0m\u001b[1;33m\u001b[0m\u001b[0m\n\u001b[0;32m   4773\u001b[0m         \u001b[1;32melse\u001b[0m\u001b[1;33m:\u001b[0m\u001b[1;33m\u001b[0m\u001b[1;33m\u001b[0m\u001b[0m\n\u001b[1;32m-> 4774\u001b[1;33m             raise ValueError(\n\u001b[0m\u001b[0;32m   4775\u001b[0m                 \u001b[1;34m\"Need to specify at least one of 'labels', 'index' or 'columns'\"\u001b[0m\u001b[1;33m\u001b[0m\u001b[1;33m\u001b[0m\u001b[0m\n\u001b[0;32m   4776\u001b[0m             \u001b[1;33m)\u001b[0m\u001b[1;33m\u001b[0m\u001b[1;33m\u001b[0m\u001b[0m\n\u001b[0;32m   4777\u001b[0m \u001b[1;33m\u001b[0m\u001b[0m\n",
      "\u001b[1;31mValueError\u001b[0m: Need to specify at least one of 'labels', 'index' or 'columns'"
     ]
    }
   ],
   "source": [
    "Dataframe = Dataframe.drop()\n",
    "print(Dataframe)"
   ]
  }
 ],
 "metadata": {
  "kernelspec": {
   "display_name": "Python 3",
   "language": "python",
   "name": "python3"
  },
  "language_info": {
   "codemirror_mode": {
    "name": "ipython",
    "version": 3
   },
   "file_extension": ".py",
   "mimetype": "text/x-python",
   "name": "python",
   "nbconvert_exporter": "python",
   "pygments_lexer": "ipython3",
   "version": "3.12.1"
  }
 },
 "nbformat": 4,
 "nbformat_minor": 2
}
