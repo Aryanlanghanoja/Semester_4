{
 "cells": [
  {
   "cell_type": "code",
   "execution_count": 2,
   "metadata": {},
   "outputs": [
    {
     "name": "stdout",
     "output_type": "stream",
     "text": [
      "     Order_#  Customer_#              Full_Name  Gender              City  \\\n",
      "0        101       10127          Lyndsey Fagen  Female    New York Metro   \n",
      "1        102       10041        Mattie Gebhardt    Male             Tokyo   \n",
      "2        103       10044     Jerrell Mccafferty    Male  Ho Chi Minh City   \n",
      "3        104       10125            Kyra Coffin  Female             Accra   \n",
      "4        105       10034             Debi Mealy  Female          San Jose   \n",
      "..       ...         ...                    ...     ...               ...   \n",
      "495      596       10075  Evangeline Grandstaff  Female            Dalian   \n",
      "496      597       10026          Lennie Grasso    Male           Tianjin   \n",
      "497      598       10137       Gwyneth Goodsell  Female           Kolkata   \n",
      "498      599       10135          Santiago Nold    Male           Jakarta   \n",
      "499      600       10131         Wilmer Markert    Male             Osaka   \n",
      "\n",
      "       Country Order_Date   Product_#  Quantity  Unit_Price  Total_Cost  \\\n",
      "0          USA 2015-09-23   Product 8        23           8         184   \n",
      "1        Japan 2015-11-10   Product 1         6          18         108   \n",
      "2      Vietnam 2010-03-29  Product 10        19          13         247   \n",
      "3        Ghana 2014-06-02   Product 6        29           4         116   \n",
      "4          USA 2011-10-21   Product 6        30           4         120   \n",
      "..         ...        ...         ...       ...         ...         ...   \n",
      "495      China 2010-10-19   Product 8        30           8         240   \n",
      "496      China 2013-06-21   Product 8        29           8         232   \n",
      "497      India 2013-05-09   Product 9        20           2          40   \n",
      "498  Indonesia 2012-10-15   Product 3         2          12          24   \n",
      "499      Japan 2015-11-17   Product 7        29           9         261   \n",
      "\n",
      "    Order_Category  Year  Quater  Month  \n",
      "0      Large Order  2015       3      9  \n",
      "1     Normal Order  2015       4     11  \n",
      "2      Large Order  2010       1      3  \n",
      "3      Large Order  2014       2      6  \n",
      "4      Large Order  2011       4     10  \n",
      "..             ...   ...     ...    ...  \n",
      "495    Large Order  2010       4     10  \n",
      "496    Large Order  2013       2      6  \n",
      "497    Large Order  2013       2      5  \n",
      "498    Small Order  2012       4     10  \n",
      "499    Large Order  2015       4     11  \n",
      "\n",
      "[500 rows x 15 columns]\n"
     ]
    }
   ],
   "source": [
    "import pandas as pd\n",
    "import numpy as np\n",
    "import seaborn as sns\n",
    "import matplotlib.pyplot as plt\n",
    "\n",
    "Dataset = pd.read_excel(\n",
    "    \"D:/Aryan Data/Usefull Data/Semester - 4/Data Visulization and Dashboards/Assigments/Assignment 4 working over Python/excel_pivots.xlsx\" , 'Orders'\n",
    ")\n",
    "\n",
    "Dataset['Order_Date'] = pd.to_datetime(Dataset['Order_Date'])\n",
    "Dataset[\"Year\"] = Dataset[\"Order_Date\"].dt.year\n",
    "Dataset[\"Quater\"] = Dataset[\"Order_Date\"].dt.quarter\n",
    "Dataset[\"Month\"] = Dataset[\"Order_Date\"].dt.month\n",
    "print(Dataset)"
   ]
  },
  {
   "cell_type": "code",
   "execution_count": 3,
   "metadata": {},
   "outputs": [
    {
     "name": "stdout",
     "output_type": "stream",
     "text": [
      "The Average Total Cost For Product 1 In Normal Category Is $ 151.71428571428572 and the Count of Orders are 14.\n"
     ]
    }
   ],
   "source": [
    "# Question - 1 :- Average \"total cost\" and count of the product 1 under normal order category\n",
    "\n",
    "Order_With_Normal_Category_of_Product_1 = Dataset[\n",
    "    (Dataset[\"Order_Category\"] == \"Normal Order\")\n",
    "    & (Dataset[\"Product_#\"] == \"Product 1\")\n",
    "]\n",
    "\n",
    "Count_of_Order_With_Normal_Category_of_Product_1 = Order_With_Normal_Category_of_Product_1.shape[0]\n",
    "Average_Total_Cost_of_Order_With_Normal_Category_of_Product_1 = Order_With_Normal_Category_of_Product_1[\"Total_Cost\"].mean()\n",
    "\n",
    "print(\n",
    "    f\"The Average Total Cost For Product 1 In Normal Category Is $ {Average_Total_Cost_of_Order_With_Normal_Category_of_Product_1} and the Count of Orders are {Count_of_Order_With_Normal_Category_of_Product_1}.\"\n",
    ")"
   ]
  },
  {
   "cell_type": "code",
   "execution_count": 3,
   "metadata": {},
   "outputs": [
    {
     "name": "stdout",
     "output_type": "stream",
     "text": [
      "11\n",
      "50.72727272727273\n"
     ]
    }
   ],
   "source": [
    "# Question - 2 :- Average \"total cost\" and count of the product 1 under short order category\n",
    "\n",
    "Order_With_Small_Category_of_Product_1 = Dataset[\n",
    "    (Dataset[\"Order_Category\"] == \"Small Order\") & (Dataset[\"Product_#\"] == \"Product 1\")\n",
    "]\n",
    "\n",
    "Count_of_Order_With_Small_Category_of_Product_1 = (\n",
    "    Order_With_Small_Category_of_Product_1.shape[0]\n",
    ")\n",
    "Average_Total_Cost_Order_With_Small_Category_of_Product_1 = (\n",
    "    Order_With_Small_Category_of_Product_1['Total_Cost'].mean()\n",
    ")\n",
    "\n",
    "print(\n",
    "    f\"The Average Total Cost For Product 1 In Normal Category Is $ {Average_Total_Cost_Order_With_Small_Category_of_Product_1} and the Count of Orders are {Count_of_Order_With_Small_Category_of_Product_1}.\"\n",
    ")"
   ]
  },
  {
   "cell_type": "code",
   "execution_count": 4,
   "metadata": {},
   "outputs": [
    {
     "name": "stdout",
     "output_type": "stream",
     "text": [
      "32\n",
      "402.75\n"
     ]
    }
   ],
   "source": [
    "# Question - 3 :- Average \"total cost\" and count of the product 1 under Large order category\n",
    "\n",
    "Order_With_Large_Category_of_Product_1 = Dataset[\n",
    "    (Dataset[\"Order_Category\"] == \"Large Order\") & (Dataset[\"Product_#\"] == \"Product 1\")\n",
    "]\n",
    "\n",
    "Count_of_Order_With_Large_Category_of_Product_1 = (\n",
    "    Order_With_Large_Category_of_Product_1.shape[0]\n",
    ")\n",
    "Average_Total_Cost_Order_With_Large_Category_of_Product_1 = (\n",
    "    Order_With_Large_Category_of_Product_1[\"Total_Cost\"].mean()\n",
    ")\n",
    "\n",
    "print(\n",
    "    f\"The Average Total Cost For Product 1 In Normal Category Is $ {Average_Total_Cost_Order_With_Large_Category_of_Product_1} and the Count of Orders are {Count_of_Order_With_Large_Category_of_Product_1}.\"\n",
    ")"
   ]
  },
  {
   "cell_type": "code",
   "execution_count": 3,
   "metadata": {},
   "outputs": [
    {
     "name": "stdout",
     "output_type": "stream",
     "text": [
      "The 11 th Month Has the Highest Count of Orders.\n"
     ]
    }
   ],
   "source": [
    "# Question - 4 :- Which month has the highest count of orders placed?\n",
    "\n",
    "Dataset['Order_Date'] = pd.to_datetime(Dataset['Order_Date'])\n",
    "Dataset['Month'] = Dataset['Order_Date'].dt.month\n",
    "Month_Having_Highest_Count = Dataset['Month'].mode()[0]\n",
    "print(f\"The {Month_Having_Highest_Count} th Month Has the Highest Count of Orders.\")"
   ]
  },
  {
   "cell_type": "code",
   "execution_count": 5,
   "metadata": {},
   "outputs": [
    {
     "name": "stdout",
     "output_type": "stream",
     "text": [
      "The Year - 2011 Has The Highest Average Total Cost.\n"
     ]
    }
   ],
   "source": [
    "# Question - 5 :- Which year has the highest \"average total cost\"?\n",
    "\n",
    "Dataset[\"Order_Date\"] = pd.to_datetime(Dataset[\"Order_Date\"])\n",
    "Dataset[\"Year\"] = Dataset[\"Order_Date\"].dt.year\n",
    "Year_Wise_Average_Total_Cost = Dataset.groupby('Year')['Total_Cost'].mean()\n",
    "Year_Having_Highest_Average_Total_Cost = Year_Wise_Average_Total_Cost.idxmax()\n",
    "\n",
    "print(f\"The Year - {Year_Having_Highest_Average_Total_Cost} Has The Highest Average Total Cost.\")\n",
    "\n"
   ]
  },
  {
   "cell_type": "code",
   "execution_count": 7,
   "metadata": {},
   "outputs": [
    {
     "name": "stdout",
     "output_type": "stream",
     "text": [
      "The Ratio Of The Number of Orders Placed By Males and Females are :-\n",
      "Males - 43.8 %\n",
      "Females - 56.2 %\n"
     ]
    }
   ],
   "source": [
    "# Question - 6 :- What is the ratio of the number of orders placed by male and female?\n",
    "\n",
    "Orders_Given_By_Male_Customers = Dataset[(Dataset[\"Gender\"] == \"Male\")]\n",
    "Orders_Given_By_Female_Customers = Dataset[(Dataset[\"Gender\"] == \"Female\")]\n",
    "\n",
    "Count_of_Orders_Given_By_Male_Customers = Orders_Given_By_Male_Customers.shape[0]\n",
    "Count_of_Orders_Given_By_Female_Customers = Orders_Given_By_Female_Customers.shape[0]\n",
    "\n",
    "Ratio_of_Count_of_Orders_Given_By_Males = (\n",
    "    Count_of_Orders_Given_By_Male_Customers / Dataset.shape[0]\n",
    ") * 100\n",
    "Ratio_of_Count_of_Orders_Given_By_Females = (\n",
    "    Count_of_Orders_Given_By_Female_Customers / Dataset.shape[0]\n",
    ") * 100\n",
    "\n",
    "print(\n",
    "    f\"The Ratio Of The Number of Orders Placed By Males and Females are :-\\nMales - {Ratio_of_Count_of_Orders_Given_By_Males} %\\nFemales - {Ratio_of_Count_of_Orders_Given_By_Females} %\"\n",
    ")"
   ]
  },
  {
   "cell_type": "code",
   "execution_count": 8,
   "metadata": {},
   "outputs": [
    {
     "name": "stdout",
     "output_type": "stream",
     "text": [
      "The Ratio Of The Total Cost of Orders Placed By Males and Females are :-\n",
      "Males - 47.29885704633748 %\n",
      "Females - 52.70114295366252 %\n"
     ]
    }
   ],
   "source": [
    "# Question - 7 :- What is the ratio of the total cost of the orders placed by male and female?\n",
    "\n",
    "Orders_Given_By_Male_Customers = Dataset[(Dataset[\"Gender\"] == \"Male\")]\n",
    "Orders_Given_By_Female_Customers = Dataset[(Dataset[\"Gender\"] == \"Female\")]\n",
    "\n",
    "Total_Cost_of_Orders_Given_By_Males = Orders_Given_By_Male_Customers[\"Total_Cost\"].sum()\n",
    "Total_Cost_of_Orders_Given_By_Females = Orders_Given_By_Female_Customers[\n",
    "    \"Total_Cost\"\n",
    "].sum()\n",
    "\n",
    "Ratio_of_Total_Cost_of_Orders_Given_By_Males = (\n",
    "    Total_Cost_of_Orders_Given_By_Males / Dataset[\"Total_Cost\"].sum()\n",
    ") * 100\n",
    "Ratio_of_Total_Cost_of_Orders_Given_By_Females = (\n",
    "    Total_Cost_of_Orders_Given_By_Females / Dataset[\"Total_Cost\"].sum()\n",
    ") * 100\n",
    "\n",
    "print(\n",
    "    f\"The Ratio Of The Total Cost of Orders Placed By Males and Females are :-\\nMales - {Ratio_of_Total_Cost_of_Orders_Given_By_Males} %\\nFemales - {Ratio_of_Total_Cost_of_Orders_Given_By_Females} %\"\n",
    ")"
   ]
  },
  {
   "cell_type": "code",
   "execution_count": 9,
   "metadata": {},
   "outputs": [
    {
     "name": "stdout",
     "output_type": "stream",
     "text": [
      "Category Wise Number of Order Placed :-\n",
      "Order_Category\n",
      "Large Order     11\n",
      "Small Order      5\n",
      "Normal Order     5\n",
      "Name: count, dtype: int64\n"
     ]
    }
   ],
   "source": [
    "# Question - 8 :- How many orders are placed under each order category for the country \"INDIA\"?\n",
    "\n",
    "Orders_Placed_In_India = Dataset[Dataset[\"Country\"] == \"India\"][\"Order_Category\"].value_counts()\n",
    "print(f\"Category Wise Number of Order Placed :-\\n{Orders_Placed_In_India}\")"
   ]
  },
  {
   "cell_type": "code",
   "execution_count": 10,
   "metadata": {},
   "outputs": [
    {
     "name": "stdout",
     "output_type": "stream",
     "text": [
      "The Total Cost Of Orders Placed By Willis Brinks Is $ 1214\n"
     ]
    }
   ],
   "source": [
    "# Question - 9 :- What is the total cost of the order placed by the customer \"Willis Brinks\"?\n",
    "\n",
    "Order_Placed_By_Willis_Brinks = Dataset[Dataset[\"Full_Name\"] == \"Willis Brinks\"]\n",
    "\n",
    "Total_Cost_of_Orders_by_Willis_Brinks = Order_Placed_By_Willis_Brinks[\n",
    "    \"Total_Cost\"\n",
    "].sum()\n",
    "print(\n",
    "    f\"The Total Cost Of Orders Placed By Willis Brinks Is $ {Total_Cost_of_Orders_by_Willis_Brinks}\"\n",
    ")"
   ]
  },
  {
   "cell_type": "code",
   "execution_count": 6,
   "metadata": {},
   "outputs": [
    {
     "name": "stdout",
     "output_type": "stream",
     "text": [
      "Britni Baisden Has Placed The Order With The Highest Amount Which Is $ 540.\n"
     ]
    }
   ],
   "source": [
    "# Question - 10 :- Name the customer who has placed the order with the highest amount.\n",
    "\n",
    "Name_of_Highest_Amount_Order = Dataset.loc[Dataset[\"Total_Cost\"].idxmax(), \"Full_Name\"]\n",
    "Order_Value = Dataset.loc[Dataset[\"Total_Cost\"].idxmax(), \"Total_Cost\"]\n",
    "print(\n",
    "    f\"{Name_of_Highest_Amount_Order} Has Placed The Order With The Highest Amount Which Is $ {Order_Value}.\"\n",
    ")"
   ]
  },
  {
   "cell_type": "code",
   "execution_count": 14,
   "metadata": {},
   "outputs": [
    {
     "name": "stdout",
     "output_type": "stream",
     "text": [
      "6\n"
     ]
    }
   ],
   "source": [
    "# Question - 11 :- What is the most common order quantity?\n",
    "\n",
    "Most_Common_Order_Quantity = Dataset['Quantity'].mode()[0];\n",
    "print(Most_Common_Order_Quantity)"
   ]
  },
  {
   "cell_type": "code",
   "execution_count": 2,
   "metadata": {},
   "outputs": [
    {
     "name": "stdout",
     "output_type": "stream",
     "text": [
      "Quater\n",
      "3    136\n",
      "4    136\n",
      "1    118\n",
      "2    110\n",
      "Name: count, dtype: int64\n"
     ]
    }
   ],
   "source": [
    "# Question - 12 :- Are there specific quarters with higher order volumes?\n",
    "\n",
    "Quater_Wise_Order = Dataset['Quater'].value_counts()\n",
    "print(Quater_Wise_Order)"
   ]
  },
  {
   "cell_type": "code",
   "execution_count": 5,
   "metadata": {},
   "outputs": [
    {
     "name": "stdout",
     "output_type": "stream",
     "text": [
      "Month\n",
      "11    52\n",
      "8     51\n",
      "9     49\n",
      "12    46\n",
      "1     41\n",
      "2     39\n",
      "3     38\n",
      "10    38\n",
      "4     37\n",
      "5     37\n",
      "6     36\n",
      "7     36\n",
      "Name: count, dtype: int64\n"
     ]
    }
   ],
   "source": [
    "# Question - 13 :- How does order frequency vary over the month?\n",
    "\n",
    "Month_Wise_Order = Dataset['Month'].value_counts()\n",
    "print(Month_Wise_Order)"
   ]
  },
  {
   "cell_type": "code",
   "execution_count": 7,
   "metadata": {},
   "outputs": [
    {
     "name": "stdout",
     "output_type": "stream",
     "text": [
      "Category Wise Contribution :-\n",
      "Small Category :- 3.749788863239682 %\n",
      "Normal Category :- 18.15072349529869 %\n",
      "Large Category :- 78.09948764146164%\n"
     ]
    }
   ],
   "source": [
    "# Question - 14 :- Are there certain categories contributing more to revenue?\n",
    "\n",
    "Total_Revenue = Dataset['Total_Cost'].sum();\n",
    "Total_Revenue_From_Small_Category = (Dataset[(Dataset['Order_Category'] == 'Small Order')]['Total_Cost'].sum() /  Total_Revenue) * 100;\n",
    "Total_Revenue_From_Normal_Category = (Dataset[(Dataset['Order_Category'] == 'Normal Order')]['Total_Cost'].sum() / Total_Revenue) * 100;\n",
    "Total_Revenue_From_Large_Category = (Dataset[(Dataset['Order_Category'] == 'Large Order')]['Total_Cost'].sum()  / Total_Revenue) * 100;\n",
    "\n",
    "print(f\"Category Wise Contribution :-\\nSmall Category :- {Total_Revenue_From_Small_Category} %\\nNormal Category :- {Total_Revenue_From_Normal_Category} %\\nLarge Category :- {Total_Revenue_From_Large_Category}%\")"
   ]
  },
  {
   "cell_type": "code",
   "execution_count": 8,
   "metadata": {},
   "outputs": [
    {
     "name": "stdout",
     "output_type": "stream",
     "text": [
      "Order_Category\n",
      "Large Order     271\n",
      "Normal Order    141\n",
      "Small Order      88\n",
      "Name: count, dtype: int64\n"
     ]
    }
   ],
   "source": [
    "# Question - 15 :-  15. What is the distribution of orders across different order categories?\n",
    "\n",
    "Cateory_Wise_Distribution = Dataset['Order_Category'].value_counts()\n",
    "print(Cateory_Wise_Distribution)"
   ]
  },
  {
   "cell_type": "code",
   "execution_count": 11,
   "metadata": {},
   "outputs": [
    {
     "name": "stdout",
     "output_type": "stream",
     "text": [
      "Product_#\n",
      "Product 6     32\n",
      "Product 1     32\n",
      "Product 4     30\n",
      "Product 3     29\n",
      "Product 7     29\n",
      "Product 8     27\n",
      "Product 5     25\n",
      "Product 9     25\n",
      "Product 10    21\n",
      "Product 2     21\n",
      "Name: count, dtype: int64\n"
     ]
    }
   ],
   "source": [
    "# Question - 16 :- Can you identify the most common product purchased in large orders?\n",
    "\n",
    "Order_With_Large_Category = Dataset[(Dataset[\"Order_Category\"] == \"Large Order\")]\n",
    "Product_Distribution_In_Large_Orders = Order_With_Large_Category['Product_#'].value_counts()\n",
    "print(Product_Distribution_In_Large_Orders)"
   ]
  },
  {
   "cell_type": "code",
   "execution_count": 12,
   "metadata": {},
   "outputs": [
    {
     "name": "stdout",
     "output_type": "stream",
     "text": [
      "15.424\n"
     ]
    }
   ],
   "source": [
    "# Question - 17 :- What is the average quantity of products per order?\n",
    "\n",
    "Average_Quantity = Dataset['Quantity'].mean()\n",
    "print(Average_Quantity)"
   ]
  },
  {
   "cell_type": "code",
   "execution_count": 13,
   "metadata": {},
   "outputs": [
    {
     "name": "stdout",
     "output_type": "stream",
     "text": [
      "Product 1\n"
     ]
    }
   ],
   "source": [
    "# Question - 18 :- Which product has the highest unit price?\n",
    "\n",
    "Product_With_Highest_Unit_Price = Dataset.loc[Dataset[\"Unit_Price\"].idxmax(), \"Product_#\"]\n",
    "print(Product_With_Highest_Unit_Price)"
   ]
  },
  {
   "cell_type": "code",
   "execution_count": 14,
   "metadata": {},
   "outputs": [
    {
     "name": "stdout",
     "output_type": "stream",
     "text": [
      "4.30283055447848\n"
     ]
    }
   ],
   "source": [
    "# Question - 19 :- What is the total revenue generated from large orders versus normal orders?\n",
    "\n",
    "Total_Revenue = Dataset['Total_Cost'].sum();\n",
    "Total_Revenue_From_Normal_Category = (Dataset[(Dataset['Order_Category'] == 'Normal Order')]['Total_Cost'].sum() / Total_Revenue) * 100;\n",
    "Total_Revenue_From_Large_Category = (Dataset[(Dataset['Order_Category'] == 'Large Order')]['Total_Cost'].sum()  / Total_Revenue) * 100;\n",
    "\n",
    "print(Total_Revenue_From_Large_Category / Total_Revenue_From_Normal_Category)"
   ]
  },
  {
   "cell_type": "code",
   "execution_count": 16,
   "metadata": {},
   "outputs": [
    {
     "name": "stdout",
     "output_type": "stream",
     "text": [
      "1.9219858156028369\n"
     ]
    }
   ],
   "source": [
    "# Question - 20 :- What is the proportion of large orders to normal orders in the dataset?\n",
    "\n",
    "Order_With_Large_Category = Dataset[\n",
    "    (Dataset[\"Order_Category\"] == \"Large Order\")]\n",
    "\n",
    "Order_With_Normal_Category = Dataset[\n",
    "    (Dataset[\"Order_Category\"] == \"Normal Order\")]\n",
    "\n",
    "print(Order_With_Large_Category.shape[0] / Order_With_Normal_Category.shape[0])\n"
   ]
  },
  {
   "cell_type": "code",
   "execution_count": 17,
   "metadata": {},
   "outputs": [
    {
     "name": "stdout",
     "output_type": "stream",
     "text": [
      "146\n"
     ]
    }
   ],
   "source": [
    "# Question - 21 :- How many unique customers are represented in the dataset?\n",
    "\n",
    "Unique_Customers = list(set(Dataset['Full_Name']))\n",
    "No_of_Unique_Customers = len(Unique_Customers)\n",
    "print(f\"There are {No_of_Unique_Customers} Unique Customers in the Dataset\")"
   ]
  },
  {
   "cell_type": "code",
   "execution_count": 20,
   "metadata": {},
   "outputs": [
    {
     "name": "stdout",
     "output_type": "stream",
     "text": [
      "Product 3\n"
     ]
    }
   ],
   "source": [
    "# Question - 22 :- What is the most frequently purchased product across all orders?\n",
    "\n",
    "Frequently_Purchased_Product = Dataset['Product_#'].mode()[0]\n",
    "print(Frequently_Purchased_Product)"
   ]
  },
  {
   "cell_type": "code",
   "execution_count": 1,
   "metadata": {},
   "outputs": [
    {
     "ename": "NameError",
     "evalue": "name 'Dataset' is not defined",
     "output_type": "error",
     "traceback": [
      "\u001b[1;31m---------------------------------------------------------------------------\u001b[0m",
      "\u001b[1;31mNameError\u001b[0m                                 Traceback (most recent call last)",
      "Cell \u001b[1;32mIn[1], line 3\u001b[0m\n\u001b[0;32m      1\u001b[0m \u001b[38;5;66;03m# Question - 23 :- What is the average total cost for each order category?\u001b[39;00m\n\u001b[1;32m----> 3\u001b[0m Order_With_Large_Category \u001b[38;5;241m=\u001b[39m \u001b[43mDataset\u001b[49m[(Dataset[\u001b[38;5;124m\"\u001b[39m\u001b[38;5;124mOrder_Category\u001b[39m\u001b[38;5;124m\"\u001b[39m] \u001b[38;5;241m==\u001b[39m \u001b[38;5;124m\"\u001b[39m\u001b[38;5;124mLarge Order\u001b[39m\u001b[38;5;124m\"\u001b[39m)]\n\u001b[0;32m      4\u001b[0m Order_With_Normal_Category \u001b[38;5;241m=\u001b[39m Dataset[(Dataset[\u001b[38;5;124m\"\u001b[39m\u001b[38;5;124mOrder_Category\u001b[39m\u001b[38;5;124m\"\u001b[39m] \u001b[38;5;241m==\u001b[39m \u001b[38;5;124m\"\u001b[39m\u001b[38;5;124mNormal Order\u001b[39m\u001b[38;5;124m\"\u001b[39m)]\n\u001b[0;32m      5\u001b[0m Order_With_Small_Category \u001b[38;5;241m=\u001b[39m Dataset[(Dataset[\u001b[38;5;124m\"\u001b[39m\u001b[38;5;124mOrder_Category\u001b[39m\u001b[38;5;124m\"\u001b[39m] \u001b[38;5;241m==\u001b[39m \u001b[38;5;124m\"\u001b[39m\u001b[38;5;124mSmall Order\u001b[39m\u001b[38;5;124m\"\u001b[39m)]\n",
      "\u001b[1;31mNameError\u001b[0m: name 'Dataset' is not defined"
     ]
    }
   ],
   "source": [
    "# Question - 23 :- What is the average total cost for each order category?\n",
    "\n",
    "Order_With_Large_Category = Dataset[(Dataset[\"Order_Category\"] == \"Large Order\")]\n",
    "Order_With_Normal_Category = Dataset[(Dataset[\"Order_Category\"] == \"Normal Order\")]\n",
    "Order_With_Small_Category = Dataset[(Dataset[\"Order_Category\"] == \"Small Order\")]\n",
    "\n",
    "Average_Total_Cost_In_Large_Order = Order_With_Large_Category['Total_Cost'].mean()\n",
    "Average_Total_Cost_In_Normal_Order = Order_With_Normal_Category['Total_Cost'].mean()\n",
    "Average_Total_Cost_In_Small_Order = Order_With_Small_Category['Total_Cost'].mean()\n",
    "\n",
    "print(f\"Category Wise Average Total Cost :-\\nSmall Category = {Average_Total_Cost_In_Small_Order}\\nNormal Cateogory = {Average_Total_Cost_In_Normal_Order}\\nLarge Category = {Average_Total_Cost_In_Large_Order}\")"
   ]
  },
  {
   "cell_type": "code",
   "execution_count": 24,
   "metadata": {},
   "outputs": [
    {
     "data": {
      "image/png": "[encoded data removed]",
      "text/plain": [
       "<Figure size 1600x800 with 1 Axes>"
      ]
     },
     "metadata": {},
     "output_type": "display_data"
    }
   ],
   "source": [
    "# Question - 24 :- How does the quantity of products impact the total cost in different order categories?\n",
    "\n",
    "plt.figure(figsize=(16,8))\n",
    "sns.barplot(x=Dataset['Quantity'] , y=Dataset['Total_Cost'] , hue=Dataset['Order_Category'])\n",
    "plt.show()\n"
   ]
  },
  {
   "cell_type": "code",
   "execution_count": 25,
   "metadata": {},
   "outputs": [
    {
     "name": "stdout",
     "output_type": "stream",
     "text": [
      "Category Wise Proportion of Orders\n",
      "Large Category :- 54.2 %\n",
      "Normal Category :- 28.199999999999996 %\n",
      "Small Category :- 17.599999999999998 %\n"
     ]
    }
   ],
   "source": [
    "# Question - 25 :- What is the proportion of small, normal, and large orders in the dataset?\n",
    "\n",
    "Order_With_Large_Category = Dataset[(Dataset[\"Order_Category\"] == \"Large Order\")]\n",
    "Order_With_Normal_Category = Dataset[(Dataset[\"Order_Category\"] == \"Normal Order\")]\n",
    "Order_With_Small_Category = Dataset[(Dataset[\"Order_Category\"] == \"Small Order\")]\n",
    "\n",
    "Orders_In_Large_Order = (Order_With_Large_Category.shape[0] / Dataset.shape[0] ) * 100 \n",
    "Orders_In_Normal_Order = (Order_With_Normal_Category.shape[0] / Dataset.shape[0]) * 100\n",
    "Orders_In_Small_Order = (Order_With_Small_Category.shape[0] / Dataset.shape[0] ) * 100 \n",
    "\n",
    "print(f\"Category Wise Proportion of Orders\\nLarge Category :- {Orders_In_Large_Order} %\\nNormal Category :- {Orders_In_Normal_Order} %\\nSmall Category :- {Orders_In_Small_Order} %\")\n"
   ]
  }
 ],
 "metadata": {
  "kernelspec": {
   "display_name": "Python 3",
   "language": "python",
   "name": "python3"
  },
  "language_info": {
   "codemirror_mode": {
    "name": "ipython",
    "version": 3
   },
   "file_extension": ".py",
   "mimetype": "text/x-python",
   "name": "python",
   "nbconvert_exporter": "python",
   "pygments_lexer": "ipython3",
   "version": "3.12.1"
  }
 },
 "nbformat": 4,
 "nbformat_minor": 2
}
