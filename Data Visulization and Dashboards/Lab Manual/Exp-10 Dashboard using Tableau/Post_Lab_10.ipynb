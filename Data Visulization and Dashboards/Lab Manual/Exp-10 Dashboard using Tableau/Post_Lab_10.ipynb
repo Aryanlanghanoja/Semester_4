{
 "cells": [
  {
   "cell_type": "code",
   "execution_count": 19,
   "metadata": {},
   "outputs": [
    {
     "name": "stdout",
     "output_type": "stream",
     "text": [
      "                Name  10th GPA  12th GPA  College GPA\n",
      "0         John Smith       8.2       8.5          9.1\n",
      "1      Emily Johnson       9.0       8.8          8.7\n",
      "2      Michael Brown       8.7       9.2          9.4\n",
      "3          Sarah Lee       9.3       8.6          8.9\n",
      "4          David Kim       7.8       8.9          9.0\n",
      "5     Jessica Wilson       9.1       9.1          8.5\n",
      "6    Christopher Lee       8.5       9.3          9.3\n",
      "7    Ashley Martinez       9.4       8.3          8.8\n",
      "8     Matthew Taylor       8.9       9.0          9.2\n",
      "9       Amanda Davis       9.2       9.4          8.2\n",
      "10     Ryan Thompson       8.6       8.7          9.1\n",
      "11  Olivia Hernandez       9.5       8.4          8.6\n",
      "12  Daniel Rodriguez       8.3       9.5          9.5\n",
      "13  Elizabeth Wilson       8.8       8.2          9.4\n",
      "14    William Thomas       9.0       8.9          8.3\n",
      "15  Madison Anderson       8.4       9.3          9.0\n",
      "16     Joshua Nguyen       9.1       8.5          8.7\n",
      "17     Sophia Garcia       8.7       9.1          9.2\n",
      "18       Logan Perez       9.3       8.8          8.4\n",
      "19       Lily Wright       8.5       9.0          9.3\n"
     ]
    }
   ],
   "source": [
    "import pandas as pd\n",
    "import plotly.express as px \n",
    "import plotly.graph_objects as go\n",
    "from plotly.subplots import make_subplots\n",
    "\n",
    "Dataset = pd.read_excel('./Dataset.xlsx' , 'Sheet1')"
   ]
  },
  {
   "cell_type": "code",
   "execution_count": 20,
   "metadata": {},
   "outputs": [],
   "source": [
    "# Task - 1 :- Take a dataset and create at least 4 different representations.\n",
    "\n",
    "Dataset['10th GPA Text'] = Dataset['10th GPA'].astype(str)\n",
    "Figure_1 = px.line(data_frame=Dataset, x=\"Name\", y=\"10th GPA\", text='10th GPA Text', labels={'Name': 'Student Name', '10th GPA': '10th GPA'}, title='10th Result')\n",
    "Figure_1.update_traces(textposition='top right')\n",
    "Figure_1.update_traces(line=dict(color='red'))\n",
    "Figure_1.write_html('Plot-1.html', auto_open=True)"
   ]
  },
  {
   "cell_type": "code",
   "execution_count": 21,
   "metadata": {},
   "outputs": [],
   "source": [
    "Dataset['12th GPA Text'] = Dataset['12th GPA'].astype(str)\n",
    "Figure_2 = px.line(data_frame=Dataset, x=\"Name\", y=\"12th GPA\", text='12th GPA Text', labels={'Name': 'Student Name', '12th GPA': '12th GPA'}, title='12th Result')\n",
    "Figure_2.update_traces(textposition='top right')\n",
    "Figure_2.update_traces(line=dict(color='green'))\n",
    "Figure_2.write_html('Plot-2.html', auto_open=True)"
   ]
  },
  {
   "cell_type": "code",
   "execution_count": 22,
   "metadata": {},
   "outputs": [],
   "source": [
    "Dataset['College GPA Text'] = Dataset['College GPA'].astype(str)\n",
    "Figure_3 = px.line(data_frame=Dataset, x=\"Name\", y=\"College GPA\", text='College GPA', labels={'Name': 'Student Name', 'College GPA': 'College GPA'}, title='College Result')\n",
    "Figure_3.update_traces(textposition='top right')\n",
    "Figure_3.update_traces(line=dict(color='orange'))\n",
    "Figure_3.write_html('Plot-3.html', auto_open=True)"
   ]
  },
  {
   "cell_type": "code",
   "execution_count": 23,
   "metadata": {},
   "outputs": [],
   "source": [
    "Dataset['10th GPA Text'] = Dataset['10th GPA'].astype(str)\n",
    "Dataset['12th GPA Text'] = Dataset['12th GPA'].astype(str)\n",
    "Dataset['College GPA Text'] = Dataset['College GPA'].astype(str)\n",
    "Figure_4 = go.Figure()\n",
    "Figure_4.add_trace(go.Scatter(x=Dataset['Name'], y=Dataset['10th GPA'],mode='markers+lines',name='10th Result',text=Dataset['10th GPA Text'], textposition=\"top center\" ))\n",
    "Figure_4.add_trace(go.Scatter(x=Dataset['Name'], y=Dataset['12th GPA'],mode='markers+lines',name='12th Result',text=Dataset['12th GPA Text'],textposition=\"top center\"))\n",
    "Figure_4.add_trace(go.Scatter(x=Dataset['Name'], y=Dataset['College GPA'],mode='markers+lines',name='College Result',text=Dataset['College GPA Text'],textposition=\"top center\"))\n",
    "Figure_4.update_layout(xaxis_title='Student Name',yaxis_title='GPA',title='10th, 12th, and College Result')\n",
    "Figure_4.write_html('Plot-4.html' , auto_open=True)"
   ]
  },
  {
   "cell_type": "code",
   "execution_count": 24,
   "metadata": {},
   "outputs": [],
   "source": [
    "Dataset['10th GPA Text'] = Dataset['10th GPA'].astype(str)\n",
    "Figure_1 = px.line(data_frame=Dataset, x=\"Name\", y=\"10th GPA\", text='10th GPA Text', labels={'Name': 'Student Name', '10th GPA': '10th GPA'}, title='10th Result')\n",
    "Figure_1.update_traces(textposition='top right')\n",
    "Figure_1.update_traces(line=dict(color='red'))\n",
    "Dataset['College GPA Text'] = Dataset['College GPA'].astype(str)\n",
    "Figure_2 = px.line(data_frame=Dataset, x=\"Name\", y=\"College GPA\", text='College GPA', labels={'Name': 'Student Name', 'College GPA': 'College GPA'}, title='College Result')\n",
    "Figure_2.update_traces(textposition='top right')\n",
    "Figure_2.update_traces(line=dict(color='orange'))\n",
    "Dataset['12th GPA Text'] = Dataset['12th GPA'].astype(str)\n",
    "Figure_3 = px.line(data_frame=Dataset, x=\"Name\", y=\"12th GPA\", text='12th GPA Text', labels={'Name': 'Student Name', '12th GPA': '12th GPA'}, title='12th Result')\n",
    "Figure_3.update_traces(textposition='top right')\n",
    "Figure_3.update_traces(line=dict(color='green'))\n",
    "Figure_4 = go.Figure()\n",
    "Figure_4.add_trace(go.Scatter(x=Dataset['Name'], y=Dataset['10th GPA'],mode='markers+lines',name='10th Result',text=Dataset['10th GPA Text'], textposition=\"top center\"))\n",
    "Figure_4.add_trace(go.Scatter(x=Dataset['Name'], y=Dataset['12th GPA'],mode='markers+lines',name='12th Result',text=Dataset['12th GPA Text'],  textposition=\"top center\"))\n",
    "Figure_4.add_trace(go.Scatter(x=Dataset['Name'], y=Dataset['College GPA'],mode='markers+lines',name='College Result',text=Dataset['College GPA Text'],textposition=\"top center\"))\n",
    "Figure_4.update_layout(xaxis_title='Student Name',yaxis_title='GPA',title='10th, 12th, and College Result')\n",
    "DashBoard = make_subplots(rows=2, cols=2, subplot_titles=(\"10th Result\", \"12th Result\", \"College Result\", \"Custom Result\"))\n",
    "DashBoard.add_trace(Figure_1.data[0], row=1, col=1)\n",
    "DashBoard.add_trace(Figure_2.data[0], row=1, col=2)\n",
    "DashBoard.add_trace(Figure_3.data[0], row=2, col=1)\n",
    "for trace in Figure_4.data:\n",
    "    DashBoard.add_trace(trace, row=2, col=2)\n",
    "DashBoard.update_layout(height=600, width=800, title_text=\"Student GPA Results Dashboard\")\n",
    "DashBoard.write_html('Dash_Board.html', auto_open = True)\n"
   ]
  }
 ],
 "metadata": {
  "kernelspec": {
   "display_name": "Python 3",
   "language": "python",
   "name": "python3"
  },
  "language_info": {
   "codemirror_mode": {
    "name": "ipython",
    "version": 3
   },
   "file_extension": ".py",
   "mimetype": "text/x-python",
   "name": "python",
   "nbconvert_exporter": "python",
   "pygments_lexer": "ipython3",
   "version": "3.12.1"
  }
 },
 "nbformat": 4,
 "nbformat_minor": 2
}
