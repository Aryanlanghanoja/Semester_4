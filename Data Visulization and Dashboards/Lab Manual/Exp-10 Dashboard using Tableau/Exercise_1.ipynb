{
 "cells": [
  {
   "cell_type": "code",
   "execution_count": 1,
   "metadata": {},
   "outputs": [
    {
     "name": "stdout",
     "output_type": "stream",
     "text": [
      "      Student  PS  OS  MCI  IWT  DVD  ADC  DMS  Open Elective  Percentage\n",
      "0        John  85  78   92   88   75   80   70             90      82.250\n",
      "1       Emily  72  85   78   90   83   88   75             80      81.375\n",
      "2     Michael  90  72   85   78   92   83   88             75      82.875\n",
      "3       Sarah  78  90   72   85   78   92   83             88      83.250\n",
      "4     Matthew  85  78   90   72   85   78   92             83      82.875\n",
      "5     Jessica  88  75   80   85   78   90   72             85      81.625\n",
      "6       David  75  80   70   78   90   85   78             90      80.750\n",
      "7      Ashley  70  90   72   80   70   78   90             72      77.750\n",
      "8       James  80  70   90   72   75   80   70             78      76.875\n",
      "9      Olivia  85  78   92   88   75   80   70             90      82.250\n",
      "10    William  72  85   78   90   83   88   75             80      81.375\n",
      "11     Sophia  90  72   85   78   92   83   88             75      82.875\n",
      "12   Benjamin  78  90   72   85   78   92   83             88      83.250\n",
      "13   Isabella  85  78   90   72   85   78   92             83      82.875\n",
      "14      Ethan  88  75   80   85   78   90   72             85      81.625\n",
      "15       Emma  75  80   70   78   90   85   78             90      80.750\n",
      "16  Alexander  70  90   72   80   70   78   90             72      77.750\n",
      "17        Mia  80  70   90   72   75   80   70             78      76.875\n",
      "18  Charlotte  85  78   92   88   75   80   70             90      82.250\n",
      "19       Noah  72  85   78   90   83   88   75             80      81.375\n"
     ]
    }
   ],
   "source": [
    "import pandas as pd\n",
    "import plotly.express as px\n",
    "import plotly.graph_objects as go\n",
    "from plotly.subplots import make_subplots\n",
    "\n",
    "Dataset = pd.read_excel(\"./Exercise_1.xlsx\",'Sheet1')\n",
    "Dataset['Percentage'] = (Dataset['PS'] + Dataset['OS'] + Dataset['MCI'] + Dataset['IWT'] + Dataset['DVD'] + Dataset['ADC'] + Dataset['DMS'] + Dataset['Open Elective']) / 8 \n",
    "print(Dataset)"
   ]
  },
  {
   "cell_type": "code",
   "execution_count": 2,
   "metadata": {},
   "outputs": [],
   "source": [
    "# Line Chart\n",
    "\n",
    "Dataset[\"PS Text\"] = Dataset[\"PS\"].astype(str)\n",
    "Line_Chart = px.line(data_frame=Dataset,x=\"Student\",y=\"PS\",text=\"PS Text\",labels={\"Name\": \"Student Name\", \"PS\": \"PS Score\"},title=\"PS Result\")\n",
    "Line_Chart.update_traces(textposition=\"top right\")\n",
    "Line_Chart.update_traces(line=dict(color=\"red\"))\n",
    "Line_Chart.write_html(\"Line Chart.html\", auto_open=True)"
   ]
  },
  {
   "cell_type": "code",
   "execution_count": 3,
   "metadata": {},
   "outputs": [],
   "source": [
    "# Histogram\n",
    "\n",
    "Histo_Distribution = Dataset['Percentage'].value_counts()\n",
    "labels = Histo_Distribution.index\n",
    "values = Histo_Distribution.values\n",
    "Histogram = go.Figure(data=[go.Histogram(x=Histo_Distribution.index)])\n",
    "Histogram.update_layout(title_text=\"Histogram of Percentage Distribution\")\n",
    "Histogram.write_html('Histogram.html',auto_open = True)"
   ]
  },
  {
   "cell_type": "code",
   "execution_count": 4,
   "metadata": {},
   "outputs": [],
   "source": [
    "# Pie Chart\n",
    "\n",
    "Pie_Distribution = Dataset[\"Percentage\"].value_counts()\n",
    "labels = Histo_Distribution.index\n",
    "values = Histo_Distribution.values\n",
    "Pie_Chart = go.Figure(data=[go.Pie(labels=labels, values=values)])\n",
    "Pie_Chart.update_layout(title_text=\"Pie Chart of Percentage Distribution\")\n",
    "Pie_Chart.write_html('Pie_Chart.html' , auto_open = True)"
   ]
  },
  {
   "cell_type": "code",
   "execution_count": 5,
   "metadata": {},
   "outputs": [],
   "source": [
    "# Scatter Plot\n",
    "\n",
    "Scatter_Plot = go.Figure(data=go.Scatter(x = Dataset['Student'] , y = Dataset['DVD'] , mode='markers'))\n",
    "Scatter_Plot.update_layout(title = 'Scatter Plot' , xaxis_title = 'Student Name' , yaxis_title = 'DVD Score')\n",
    "Scatter_Plot.write_html('Scatter Plot.html',auto_open = True)"
   ]
  },
  {
   "cell_type": "code",
   "execution_count": 6,
   "metadata": {},
   "outputs": [],
   "source": [
    "# Line Chart\n",
    "Line_Chart = go.Figure()\n",
    "Line_Chart.add_trace(\n",
    "    go.Scatter(\n",
    "        x=Dataset[\"Student\"],\n",
    "        y=Dataset[\"PS\"],\n",
    "        mode=\"lines+markers\",\n",
    "        text=Dataset[\"PS Text\"],\n",
    "        name=\"PS Score\",\n",
    "    )\n",
    ")\n",
    "Line_Chart.update_traces(textposition=\"top right\")\n",
    "Line_Chart.update_traces(line=dict(color=\"red\"))\n",
    "Line_Chart.update_layout(\n",
    "    title=\"PS Result\", xaxis_title=\"Student Name\", yaxis_title=\"PS Score\"\n",
    ")\n",
    "\n",
    "# Histogram\n",
    "Histo_Distribution = Dataset[\"Percentage\"].value_counts()\n",
    "Histogram = go.Figure(data=[go.Histogram(x=Histo_Distribution.index)])\n",
    "Histogram.update_layout(title_text=\"Histogram of Percentage Distribution\")\n",
    "\n",
    "# Scatter Plot\n",
    "Scatter_Plot = go.Figure(\n",
    "    data=go.Scatter(x=Dataset[\"Student\"], y=Dataset[\"DVD\"], mode=\"markers\")\n",
    ")\n",
    "Scatter_Plot.update_layout(\n",
    "    title=\"Scatter Plot\", xaxis_title=\"Student Name\", yaxis_title=\"DVD Score\"\n",
    ")\n",
    "\n",
    "# Pie Chart\n",
    "Pie_Distribution = Dataset[\"Percentage\"].value_counts()\n",
    "Pie_Chart = go.Figure(\n",
    "    data=[go.Pie(labels=Pie_Distribution.index, values=Pie_Distribution.values)]\n",
    ")\n",
    "Pie_Chart.update_layout(title_text=\"Pie Chart of Percentage Distribution\")\n",
    "\n",
    "# Create subplots with specs argument\n",
    "DashBoard = make_subplots(\n",
    "    rows=3, cols=2,\n",
    "    specs=[[{'type': 'scatter'}, {'type': 'histogram'}],\n",
    "           [{'type': 'scatter'}, None],\n",
    "           [None, {'type': 'pie'}]],\n",
    "    subplot_titles=(\"Line Chart\", \"Histogram\", \"Scatter Plot\", \"Pie Chart\")\n",
    ")\n",
    "\n",
    "# Add figures to subplots\n",
    "DashBoard.add_trace(Line_Chart[\"data\"][0], row=1, col=1)\n",
    "DashBoard.add_trace(Histogram[\"data\"][0], row=1, col=2)\n",
    "DashBoard.add_trace(Scatter_Plot[\"data\"][0], row=2, col=1)\n",
    "DashBoard.add_trace(Pie_Chart[\"data\"][0], row=3, col=2)\n",
    "\n",
    "# Update layout\n",
    "DashBoard.update_layout(height=600, width=800, title_text=\"Dashboard\")\n",
    "\n",
    "# Write HTML file and open it\n",
    "DashBoard.write_html(\"Dash Board.html\", auto_open=True)"
   ]
  }
 ],
 "metadata": {
  "kernelspec": {
   "display_name": "Python 3",
   "language": "python",
   "name": "python3"
  },
  "language_info": {
   "codemirror_mode": {
    "name": "ipython",
    "version": 3
   },
   "file_extension": ".py",
   "mimetype": "text/x-python",
   "name": "python",
   "nbconvert_exporter": "python",
   "pygments_lexer": "ipython3",
   "version": "3.12.1"
  }
 },
 "nbformat": 4,
 "nbformat_minor": 2
}
