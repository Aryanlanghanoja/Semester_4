{
 "cells": [
  {
   "cell_type": "code",
   "execution_count": 4,
   "metadata": {},
   "outputs": [],
   "source": [
    "import pandas as pd  \n",
    "import plotly.express as px \n",
    "\n",
    "GRNo_Student_ID = pd.read_excel('./Result Analysis.xlsx','Sheet1')\n",
    "Student_ID_Name = pd.read_excel('./Result Analysis.xlsx','Sheet2')\n",
    "GRNo_SPI = pd.read_excel('./Result Analysis.xlsx','Sheet3')\n",
    "Name_10th_Marks = pd.read_excel('./Result Analysis.xlsx','Sheet4')"
   ]
  },
  {
   "cell_type": "code",
   "execution_count": 9,
   "metadata": {},
   "outputs": [
    {
     "name": "stderr",
     "output_type": "stream",
     "text": [
      "C:\\Users\\online\\AppData\\Roaming\\Python\\Python312\\site-packages\\plotly\\express\\_core.py:2065: FutureWarning: When grouping with a length-1 list-like, you will need to pass a length-1 tuple to get_group in a future version of pandas. Pass `(name,)` instead of `name` to silence this warning.\n",
      "  sf: grouped.get_group(s if len(s) > 1 else s[0])\n"
     ]
    }
   ],
   "source": [
    "# Task - 1 :- Perform the analysis of (Name vs SPI) and arrange it in descending order\n",
    "\n",
    "Joint_Sheet2_and_Sheet2 = pd.merge(GRNo_Student_ID, Student_ID_Name,on='Student ID')\n",
    "Joint_GRNO_Name_SPI = pd.merge(Joint_Sheet2_and_Sheet2,GRNo_SPI,on='GR No')\n",
    "Task_1_Datatset = Joint_GRNO_Name_SPI[['Name', 'SPI']]\n",
    "Task_1_Datatset = Task_1_Datatset.sort_values(by='SPI' , ascending = False)\n",
    "Task_1_Datatset['Text'] = Task_1_Datatset['SPI'].astype(str)\n",
    "Task_1_Plot = px.bar(data_frame=Task_1_Datatset,x='Name' , y='SPI' , color = 'Name' , title='SPI of Student' , text='Text' , labels={'SPI' : 'SPI' , 'Name' : 'Name'})\n",
    "Task_1_Plot.update_traces(textposition=\"outside\")\n",
    "Task_1_Plot.write_html('Name vs SPI.html')"
   ]
  },
  {
   "cell_type": "code",
   "execution_count": 14,
   "metadata": {},
   "outputs": [],
   "source": [
    "# Task - 2 :- Perform the analysis of (Gr. No. vs SPI) and arrange it in descending order\n",
    "\n",
    "Task_2_Dataset = GRNo_SPI.sort_values(by='SPI' , ascending = False)\n",
    "Task_2_Dataset[\"Text\"] = Task_2_Dataset['SPI'].astype(str)\n",
    "Task_2_Plot = px.bar(data_frame=Task_2_Dataset,x=\"GR No\",y=\"SPI\",color=\"GR No\",title=\"SPI of Student\",text=\"Text\",labels={\"SPI\": \"SPI\", \"GR No\": \"GR No\"},)\n",
    "Task_2_Plot.update_traces(textposition=\"outside\")\n",
    "Task_2_Plot.write_html(\"GR No vs SPI.html\")"
   ]
  }
 ],
 "metadata": {
  "kernelspec": {
   "display_name": "Python 3",
   "language": "python",
   "name": "python3"
  },
  "language_info": {
   "codemirror_mode": {
    "name": "ipython",
    "version": 3
   },
   "file_extension": ".py",
   "mimetype": "text/x-python",
   "name": "python",
   "nbconvert_exporter": "python",
   "pygments_lexer": "ipython3",
   "version": "3.12.1"
  }
 },
 "nbformat": 4,
 "nbformat_minor": 2
}
